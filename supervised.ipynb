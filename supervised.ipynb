{
 "cells": [
  {
   "cell_type": "markdown",
   "metadata": {},
   "source": [
    "# German Traffic Sign Benchmark - Hue Histograms"
   ]
  },
  {
   "cell_type": "markdown",
   "metadata": {},
   "source": [
    "## Overview"
   ]
  },
  {
   "cell_type": "markdown",
   "metadata": {},
   "source": [
    "### Description of the data\n",
    "The dataset is about the classification of images of German traffic signs into 43 distinct classes. The classes can be seen in the image below.\n",
    "The classification is meant to be achieved by using only the global histogram of the hue values in HSV color space, resulting in 256 features per image.\n",
    "\n",
    "<img src=\"traffic-sign-classes.png\" title=\"Traffic sign classes\" alt=\"43 different traffic signs from germany\" width=\"1000px\">"
   ]
  },
  {
   "cell_type": "code",
   "execution_count": 132,
   "metadata": {},
   "outputs": [],
   "source": [
    "import math\n",
    "import numpy as np\n",
    "# import pandas as pd\n",
    "import matplotlib.pyplot as plt\n",
    "import openml\n",
    "\n",
    "from sklearn.model_selection import train_test_split\n",
    "\n",
    "from sklearn.dummy import DummyClassifier\n",
    "from sklearn.naive_bayes import GaussianNB\n",
    "from sklearn.neighbors import KNeighborsClassifier\n",
    "from sklearn.linear_model import LogisticRegression\n",
    "from sklearn.neural_network import MLPClassifier\n",
    "from sklearn.svm import SVC\n",
    "\n",
    "from sklearn.metrics import accuracy_score, f1_score, make_scorer, ConfusionMatrixDisplay\n",
    "from sklearn.pipeline import Pipeline\n",
    "\n",
    "from sklearn.utils._testing import ignore_warnings\n",
    "from sklearn.exceptions import ConvergenceWarning"
   ]
  },
  {
   "cell_type": "code",
   "execution_count": 2,
   "metadata": {},
   "outputs": [],
   "source": [
    "# TODO: DELETE KEY\n",
    "openml.config.apikey = 'd3aa70dc3cdf0aeac05a5400172fd1e1'"
   ]
  },
  {
   "cell_type": "code",
   "execution_count": 3,
   "metadata": {},
   "outputs": [],
   "source": [
    "RANDOM_STATE = 42"
   ]
  },
  {
   "cell_type": "markdown",
   "metadata": {},
   "source": [
    "Loading the data doesn't require any altering of the plain text files."
   ]
  },
  {
   "cell_type": "code",
   "execution_count": 4,
   "metadata": {},
   "outputs": [],
   "source": [
    "dataset = openml.datasets.get_dataset(41990)\n",
    "\n",
    "X, y, categorical_indicator, attribute_names = dataset.get_data(\n",
    "    dataset_format=\"array\",\n",
    "    target=dataset.default_target_attribute\n",
    "    )\n",
    "\n",
    "classes, class_counts = np.unique(y,return_counts=True)\n",
    "\n",
    "# # Saving the dataset object structure\n",
    "# import pprint\n",
    "# with open('vars-dataset.txt', 'w', encoding='utf8') as f:\n",
    "#     pprint.pprint(vars(dataset), stream=f)"
   ]
  },
  {
   "cell_type": "code",
   "execution_count": 5,
   "metadata": {},
   "outputs": [
    {
     "name": "stdout",
     "output_type": "stream",
     "text": [
      "Dataset Name: GTSRB-HueHist\n",
      "OpenML URL: https://www.openml.org/data/v1/download/21389569/GTSRB-HueHist.arff\n",
      "Original Data URL (link not working): http://benchmark.ini.rub.de/?section=gtsrb&subsection=dataset\n",
      "Paper URL: https://www.ini.rub.de/upload/file/1470692848_f03494010c16c36bab9e/StallkampEtAl_GTSRB_IJCNN2011.pdf\n",
      "------------------------------------------------------------\n",
      "Description:\n",
      "The German Traffic Sign Benchmark is a multi-class, single-image classification challenge held at the International Joint Conference on Neural Networks (IJCNN) 2011. We cordially invite researchers from relevant fields to participate: The competition is designed to allow for participation without special domain knowledge.\n",
      "\n",
      "# Pre-calculated features\n",
      "\n",
      "To allow scientists without a background in image processing to participate, we several provide pre-calculated feature sets. Each feature set contains the same directory structure as the training image set. For details on the parameters of the feature algorithm, please have a look at the file Feature_description.txt which is part of each archive file.\n",
      " \n",
      "\\# Hue Histograms\n",
      "    \n",
      "For each image in the training set, the file contains a 256-bin histogram of hue values (HSV color space).\n",
      "------------------------------------------------------------\n",
      "Licence The data is free to use (when citing the publication).\n",
      "Citation:\n",
      "@inproceedings{Stallkamp-IJCNN-2011,\n",
      "    author = {Johannes Stallkamp and Marc Schlipsing and Jan Salmen and Christian Igel},\n",
      "    booktitle = {IEEE International Joint Conference on Neural Networks},\n",
      "    title = {The {G}erman {T}raffic {S}ign {R}ecognition {B}enchmark: A multi-class classification competition},\n",
      "    year = {2011},\n",
      "    pages = {1453--1460}\n",
      "}\n"
     ]
    }
   ],
   "source": [
    "# OpenML description\n",
    "\n",
    "print(f'Dataset Name: {dataset.name}')\n",
    "print(f'OpenML URL: {dataset.url}')\n",
    "print(f'Original Data URL (link not working): {dataset.original_data_url}')\n",
    "print(f'Paper URL: {dataset.paper_url}')\n",
    "\n",
    "print('-'*60)\n",
    "print(f'Description:\\n{dataset.description}')\n",
    "print('-'*60)\n",
    "\n",
    "print(f'Licence {dataset.licence}')\n",
    "print(f'Citation:\\n{dataset.citation}')"
   ]
  },
  {
   "cell_type": "markdown",
   "metadata": {},
   "source": [
    "* The sample size is 51839, with each sample comprising of 256 features (in essence they are 255 since the 256th is 1 - sum_of_the_rest).\n",
    "* The headers are simply `pixel-00000, pixel-00001, ... , pixel-00255`. The rows don't have any special numbering.\n",
    "* The class labels are in the `class` column and they are namely `0, 1, ... , 42`.\n",
    "* There are no missing values in the dataset."
   ]
  },
  {
   "cell_type": "code",
   "execution_count": 6,
   "metadata": {},
   "outputs": [
    {
     "name": "stdout",
     "output_type": "stream",
     "text": [
      "Number of samples: 51839\n",
      "Number of features: 256\n",
      "Headers: pixel-00000 ... pixel-00255\n",
      "Class field: class\n",
      "Classes: 0 ... 42\n",
      "Number of samples with missing values: 0\n",
      "Percentage of sample with missing values:  0.00%\n"
     ]
    }
   ],
   "source": [
    "print(f'Number of samples: {X.shape[0]}')\n",
    "print(f'Number of features: {X.shape[1]}')\n",
    "print(f'Headers: {attribute_names[0]} ... {attribute_names[-1]}')\n",
    "print(f'Class field: {dataset.default_target_attribute}')\n",
    "print(f'Classes: {classes[0]} ... {classes[-1]}')\n",
    "print(f'Number of samples with missing values: {np.sum(np.any(np.isnan(X), axis=1))}')\n",
    "print(f'Percentage of sample with missing values: {np.mean(np.any(np.isnan(X), axis=1)): .2%}')\n"
   ]
  },
  {
   "cell_type": "code",
   "execution_count": 7,
   "metadata": {},
   "outputs": [
    {
     "data": {
      "text/plain": [
       "True"
      ]
     },
     "execution_count": 7,
     "metadata": {},
     "output_type": "execute_result"
    }
   ],
   "source": [
    "# It is indeed a histogram\n",
    "np.all(X >= 0) and np.all(np.isclose(np.sum(X, axis=1), 1))"
   ]
  },
  {
   "cell_type": "markdown",
   "metadata": {},
   "source": [
    "The dataset is not balanced, since we can see that there are classes which are more than 1.5 times more frequent than some other class (11 times in our worst case)."
   ]
  },
  {
   "cell_type": "code",
   "execution_count": 8,
   "metadata": {},
   "outputs": [
    {
     "name": "stdout",
     "output_type": "stream",
     "text": [
      "The rarest class is 0 with frequency 270.\n",
      "The most common class is 2 with frequency 3000.\n",
      "The most common class appears 11.1 times more often than the rarest one.\n"
     ]
    }
   ],
   "source": [
    "rarest = np.argmin(class_counts)\n",
    "most_common = np.argmax(class_counts)\n",
    "\n",
    "print('The rarest class is {} with frequency {}.'.format(\n",
    "    classes[rarest], class_counts[rarest]))\n",
    "print('The most common class is {} with frequency {}.'.format(\n",
    "    classes[most_common], class_counts[most_common]))\n",
    "print('The most common class appears {:.1f} times more often than the rarest one.'.format(\n",
    "    class_counts[most_common] / class_counts[rarest]))"
   ]
  },
  {
   "cell_type": "code",
   "execution_count": 9,
   "metadata": {},
   "outputs": [
    {
     "data": {
      "image/png": "[encoded data removed]",
      "text/plain": [
       "<Figure size 432x288 with 2 Axes>"
      ]
     },
     "metadata": {
      "needs_background": "light"
     },
     "output_type": "display_data"
    }
   ],
   "source": [
    "plt.bar(classes, class_counts)\n",
    "plt.ylabel('Absolute frequencies')\n",
    "plt.twinx()\n",
    "plt.bar(classes, class_counts / y.shape[0])\n",
    "plt.plot((classes[0], classes[-1]),\n",
    "         (1/len(classes), 1/len(classes)),\n",
    "        'g--',\n",
    "        label='average frequency (ideal)')\n",
    "plt.legend()\n",
    "plt.ylabel('Relative frequencies')\n",
    "plt.title('Class Frequencies')\n",
    "plt.show()"
   ]
  },
  {
   "cell_type": "markdown",
   "metadata": {},
   "source": [
    "## Preparation"
   ]
  },
  {
   "cell_type": "code",
   "execution_count": 10,
   "metadata": {},
   "outputs": [],
   "source": [
    "X_train, X_test, y_train, y_test = train_test_split(X, y, test_size=0.3, shuffle=True, random_state=RANDOM_STATE)"
   ]
  },
  {
   "cell_type": "markdown",
   "metadata": {},
   "source": [
    "## Classification"
   ]
  },
  {
   "cell_type": "markdown",
   "metadata": {},
   "source": [
    "### Out of the box results\n",
    "\n",
    "We can see that the results are quite poor, with the exception of the K Nearest Neighbours classifier, which had a remarkably good accuracy score (and f1 score) of 73%. Those unsatisfying results are to be expected since we haven't tweaked any of the hyperparameters yet. In addition to that, the classes are very imbalanced. We also need to keep in mind that it's harder to correctly classify in 43 different classes instead of, say, 2. For example if a traffic sign has 5 others that look very similar to it, then it's expected to have our sign misclassified as one of those 5.\n",
    "\n",
    "It is also worth noting that the F1 score of the Dummy classifier is very low. This is because it predicts everything into a single class (the most frequent one: class 2)."
   ]
  },
  {
   "cell_type": "code",
   "execution_count": 11,
   "metadata": {},
   "outputs": [],
   "source": [
    "clf_classes = [\n",
    "    DummyClassifier,\n",
    "    GaussianNB,\n",
    "    KNeighborsClassifier,\n",
    "    LogisticRegression,\n",
    "    MLPClassifier,\n",
    "    SVC\n",
    "]\n",
    "\n",
    "# scoring = {'accuracy': accuracy_score, \n",
    "#            'f1_macro': make_scorer(f1_score, average='macro')}"
   ]
  },
  {
   "cell_type": "code",
   "execution_count": 12,
   "metadata": {},
   "outputs": [],
   "source": [
    "@ignore_warnings(category=ConvergenceWarning)\n",
    "def get_default_measurement(clf_class, X_train, X_test, y_train, y_test):\n",
    "    clf = clf_class()\n",
    "    clf.fit(X_train, y_train)\n",
    "    y_pred = clf.predict(X_test)\n",
    "    acc = accuracy_score(y_test, y_pred)\n",
    "    f1 = f1_score(y_test, y_pred, average='macro')\n",
    "    return acc, f1, clf"
   ]
  },
  {
   "cell_type": "code",
   "execution_count": 13,
   "metadata": {},
   "outputs": [],
   "source": [
    "default_measurements = [get_default_measurement(clf_class, X_train, X_test, y_train, y_test) for clf_class in clf_classes]"
   ]
  },
  {
   "cell_type": "code",
   "execution_count": 77,
   "metadata": {},
   "outputs": [],
   "source": [
    "# for acc, f1, clf in default_measurements:\n",
    "#     print(f'| {type(clf).__name__} | {acc:.4f} | {f1: .4f} |')"
   ]
  },
  {
   "cell_type": "markdown",
   "metadata": {},
   "source": [
    "**Accuracy and F1 score using the default values from sklearn**\n",
    "\n",
    "|Classifier | Accuracy | F1 score|\n",
    "| --- | --- | --- |\n",
    "| DummyClassifier | 0.0592 |  0.0026 |\n",
    "| GaussianNB | 0.1389 |  0.1168 |\n",
    "| KNeighborsClassifier | 0.7307 |  0.7394 |\n",
    "| LogisticRegression | 0.2059 |  0.0729 |\n",
    "| MLPClassifier | 0.4064 |  0.3739 |\n",
    "| SVC | 0.4584 |  0.4162 |"
   ]
  },
  {
   "cell_type": "code",
   "execution_count": 72,
   "metadata": {},
   "outputs": [],
   "source": [
    "def plot_measurements(measurements, title, ax=None):\n",
    "\n",
    "    accs, f1s, clfs = zip(*measurements)\n",
    "    clf_names = [type(clf).__name__ for clf in clfs]\n",
    "    xs = np.arange(len(measurements))\n",
    "    width = 0.35\n",
    "\n",
    "    if ax is None:\n",
    "        fig, ax = plt.subplots(figsize=(12, 8))\n",
    "\n",
    "    acc_bars = ax.bar(xs - width/2, accs, width, label='Accuracy')\n",
    "    f1_bars = ax.bar(xs + width/2, f1s, width, label='F1')\n",
    "    ax.bar_label(acc_bars, fmt='%.3f', padding=3)\n",
    "    ax.bar_label(f1_bars, fmt='%.3f', padding=3)\n",
    "\n",
    "    # plt.xlabel('Classifiers')\n",
    "    ax.set_ylabel('Scores')\n",
    "    ax.set_title(title)\n",
    "    ax.set_xticks(xs, clf_names, rotation=30)\n",
    "    ax.legend()"
   ]
  },
  {
   "cell_type": "code",
   "execution_count": 76,
   "metadata": {},
   "outputs": [
    {
     "data": {
      "image/png": "[encoded data removed]",
      "text/plain": [
       "<Figure size 864x576 with 1 Axes>"
      ]
     },
     "metadata": {
      "needs_background": "light"
     },
     "output_type": "display_data"
    }
   ],
   "source": [
    "plot_measurements(default_measurements, title='Out of the box scores')\n",
    "plt.show()"
   ]
  },
  {
   "cell_type": "code",
   "execution_count": 122,
   "metadata": {},
   "outputs": [
    {
     "data": {
      "text/plain": [
       "True"
      ]
     },
     "execution_count": 122,
     "metadata": {},
     "output_type": "execute_result"
    }
   ],
   "source": [
    "# The Dummy classifier predicts everything as the most frequent class.\n",
    "np.all(default_measurements[0][2].predict(X_test) == classes[np.argmax(class_counts)])"
   ]
  },
  {
   "cell_type": "code",
   "execution_count": 141,
   "metadata": {},
   "outputs": [],
   "source": [
    "# Confusion matrix for each classifier\n",
    "def plot_confusion_matrices(measurements, suptitle=None, axs=None):\n",
    "\n",
    "    # Compute the grid layout\n",
    "    if axs is None:\n",
    "        n = len(measurements)\n",
    "        k = math.isqrt(n)\n",
    "        q, r = divmod(n - k*k, k)\n",
    "        nrows = k\n",
    "        ncols = k + q + (r != 0)  # ceiling division\n",
    "        fig, axs = plt.subplots(nrows=nrows, ncols=ncols, figsize=(10, 10))\n",
    "    \n",
    "    # Plot the confusion matrices\n",
    "    for (_, _, clf), ax in zip(measurements, axs.flat):\n",
    "        ConfusionMatrixDisplay.from_estimator(clf, X_test, y_test,\n",
    "                                            colorbar=False, include_values=False, ax=ax)\n",
    "        ax.set_title(type(clf).__name__)\n",
    "        ax.get_xaxis().set_visible(False)\n",
    "        ax.get_yaxis().set_visible(False)\n",
    "\n",
    "    # Strip the axes of the unfilled parts of the grid (if there are any)\n",
    "    for ax in axs.flat[n:]:\n",
    "        ax.axis('off')\n",
    "\n",
    "    if suptitle is not None:\n",
    "        fig.suptitle(suptitle)\n",
    "        \n",
    "    fig.tight_layout()"
   ]
  },
  {
   "cell_type": "code",
   "execution_count": 142,
   "metadata": {},
   "outputs": [
    {
     "data": {
      "image/png": "[encoded data removed]",
      "text/plain": [
       "<Figure size 720x720 with 6 Axes>"
      ]
     },
     "metadata": {
      "needs_background": "light"
     },
     "output_type": "display_data"
    }
   ],
   "source": [
    "plot_confusion_matrices(default_measurements, suptitle='Confusion matrix for each (out of the box) classifier')\n",
    "plt.show()"
   ]
  },
  {
   "cell_type": "code",
   "execution_count": null,
   "metadata": {},
   "outputs": [],
   "source": []
  }
 ],
 "metadata": {
  "interpreter": {
   "hash": "8efed1ddfa7561c17d4d7afb9e99c5f25c96b1b3cc135ae9a8764c46f4b5975e"
  },
  "kernelspec": {
   "display_name": "Python 3.9.7 64-bit ('ml-project-1': conda)",
   "language": "python",
   "name": "python3"
  },
  "language_info": {
   "codemirror_mode": {
    "name": "ipython",
    "version": 3
   },
   "file_extension": ".py",
   "mimetype": "text/x-python",
   "name": "python",
   "nbconvert_exporter": "python",
   "pygments_lexer": "ipython3",
   "version": "3.9.7"
  },
  "orig_nbformat": 4
 },
 "nbformat": 4,
 "nbformat_minor": 2
}
